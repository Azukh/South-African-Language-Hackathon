{
 "cells": [
  {
   "cell_type": "markdown",
   "metadata": {
    "id": "y_WUYiwdkZdP"
   },
   "source": [
    "\n",
    "# **EDSA LANGUAGE HACKATHON**\n",
    "\n",
    "The challenge is to build, train, test and deploy a model to take in text which is in any of South Africa's 11 official languages and identify which\n",
    "language the text is in using any machine learning classification technique.\n"
   ]
  },
  {
   "cell_type": "markdown",
   "metadata": {
    "id": "PTnc6DCdlQPf"
   },
   "source": [
    "## Honour Code\n",
    "\n",
    "I **MUHAMMAD**, **YAHYA**, confirm - by submitting this document - that the solutions in this notebook are a result of my own work and that I abide by the EDSA honour code."
   ]
  },
  {
   "cell_type": "markdown",
   "metadata": {
    "id": "zfEC9AqUlbuK"
   },
   "source": [
    "### Import all necessary libraries"
   ]
  },
  {
   "cell_type": "code",
   "execution_count": 51,
   "metadata": {
    "id": "1SpFpNMmi2D1"
   },
   "outputs": [],
   "source": [
    "# imports for data visualisation\n",
    "\n",
    "import seaborn as sns\n",
    "from scipy import stats\n",
    "import matplotlib.pyplot as plt\n",
    "%matplotlib inline\n",
    "sns.set()\n",
    "from textblob import TextBlob\n",
    "from nltk.probability import FreqDist\n",
    "#from wordcloud import WordCloud, ImageColorGenerator\n",
    "import plotly.express as px\n",
    "from sklearn.neighbors import KNeighborsClassifier\n",
    "# imports for Natural Language  Processing\n",
    "import pandas as pd\n",
    "import numpy as np\n",
    "import nltk\n",
    "import string\n",
    "import re\n",
    "from sklearn.feature_extraction.text import TfidfVectorizer\n",
    "from nltk.stem import WordNetLemmatizer\n",
    "from nltk.corpus import stopwords, wordnet\n",
    "from nltk.tokenize import word_tokenize\n",
    "\n",
    "# imports model prosessing\n",
    "from sklearn.linear_model import SGDClassifier\n",
    "from sklearn.linear_model import LogisticRegression\n",
    "from sklearn.naive_bayes import MultinomialNB\n",
    "from sklearn.ensemble import RandomForestClassifier, AdaBoostClassifier\n",
    "from sklearn.svm import LinearSVC\n",
    "from sklearn.svm import SVC\n",
    "from sklearn.pipeline import Pipeline\n",
    "from xgboost import XGBRFClassifier\n",
    "from lightgbm import LGBMClassifier\n",
    "from sklearn.tree import DecisionTreeClassifier\n",
    "from sklearn.ensemble import RandomForestClassifier\n",
    "from sklearn.model_selection import train_test_split\n",
    "from sklearn.naive_bayes import MultinomialNB\n",
    "\n",
    "# imports Checking Acuracy\n",
    "from sklearn.ensemble import VotingClassifier\n",
    "from sklearn.metrics import f1_score, accuracy_score, confusion_matrix, classification_report\n",
    "#from scikitplot.metrics import plot_roc, plot_confusion_matrix\n",
    "from sklearn.model_selection import GridSearchCV\n",
    "from sklearn.ensemble import BaggingClassifier\n",
    "from sklearn.multiclass import OneVsRestClassifier\n",
    "from sklearn.preprocessing import label_binarize\n",
    "from sklearn.metrics import plot_roc_curve\n",
    "\n",
    "# imports for other libraires\n",
    "import pickle\n",
    "import unicodedata\n",
    "import warnings\n",
    "warnings.filterwarnings(\"ignore\")\n",
    "#import en_core_web_sm\n",
    "import spacy"
   ]
  },
  {
   "cell_type": "markdown",
   "metadata": {
    "id": "Yj_zLOxKpje_"
   },
   "source": [
    "### Load data and perform basic EDA"
   ]
  },
  {
   "cell_type": "code",
   "execution_count": 2,
   "metadata": {
    "colab": {
     "base_uri": "https://localhost:8080/",
     "height": 206
    },
    "id": "mfUoOBpIlY4e",
    "outputId": "4b3ea798-3bb2-4abf-b5eb-470136f4deed"
   },
   "outputs": [
    {
     "data": {
      "text/html": [
       "<div>\n",
       "<style scoped>\n",
       "    .dataframe tbody tr th:only-of-type {\n",
       "        vertical-align: middle;\n",
       "    }\n",
       "\n",
       "    .dataframe tbody tr th {\n",
       "        vertical-align: top;\n",
       "    }\n",
       "\n",
       "    .dataframe thead th {\n",
       "        text-align: right;\n",
       "    }\n",
       "</style>\n",
       "<table border=\"1\" class=\"dataframe\">\n",
       "  <thead>\n",
       "    <tr style=\"text-align: right;\">\n",
       "      <th></th>\n",
       "      <th>lang_id</th>\n",
       "      <th>text</th>\n",
       "    </tr>\n",
       "  </thead>\n",
       "  <tbody>\n",
       "    <tr>\n",
       "      <th>0</th>\n",
       "      <td>xho</td>\n",
       "      <td>umgaqo-siseko wenza amalungiselelo kumaziko ax...</td>\n",
       "    </tr>\n",
       "    <tr>\n",
       "      <th>1</th>\n",
       "      <td>xho</td>\n",
       "      <td>i-dha iya kuba nobulumko bokubeka umsebenzi na...</td>\n",
       "    </tr>\n",
       "    <tr>\n",
       "      <th>2</th>\n",
       "      <td>eng</td>\n",
       "      <td>the province of kwazulu-natal department of tr...</td>\n",
       "    </tr>\n",
       "    <tr>\n",
       "      <th>3</th>\n",
       "      <td>nso</td>\n",
       "      <td>o netefatša gore o ba file dilo ka moka tše le...</td>\n",
       "    </tr>\n",
       "    <tr>\n",
       "      <th>4</th>\n",
       "      <td>ven</td>\n",
       "      <td>khomishini ya ndinganyiso ya mbeu yo ewa maana...</td>\n",
       "    </tr>\n",
       "  </tbody>\n",
       "</table>\n",
       "</div>"
      ],
      "text/plain": [
       "  lang_id                                               text\n",
       "0     xho  umgaqo-siseko wenza amalungiselelo kumaziko ax...\n",
       "1     xho  i-dha iya kuba nobulumko bokubeka umsebenzi na...\n",
       "2     eng  the province of kwazulu-natal department of tr...\n",
       "3     nso  o netefatša gore o ba file dilo ka moka tše le...\n",
       "4     ven  khomishini ya ndinganyiso ya mbeu yo ewa maana..."
      ]
     },
     "execution_count": 2,
     "metadata": {},
     "output_type": "execute_result"
    }
   ],
   "source": [
    "#TRAIN DATA\n",
    "\n",
    "df_train = pd.read_csv('train_set.csv')\n",
    "df_train.head()"
   ]
  },
  {
   "cell_type": "code",
   "execution_count": 3,
   "metadata": {
    "colab": {
     "base_uri": "https://localhost:8080/"
    },
    "id": "fI9dYnN-pPve",
    "outputId": "373d02f2-76fc-4247-f3e0-bcc7f63843d4"
   },
   "outputs": [
    {
     "name": "stdout",
     "output_type": "stream",
     "text": [
      "<class 'pandas.core.frame.DataFrame'>\n",
      "RangeIndex: 33000 entries, 0 to 32999\n",
      "Data columns (total 2 columns):\n",
      " #   Column   Non-Null Count  Dtype \n",
      "---  ------   --------------  ----- \n",
      " 0   lang_id  33000 non-null  object\n",
      " 1   text     33000 non-null  object\n",
      "dtypes: object(2)\n",
      "memory usage: 515.8+ KB\n"
     ]
    }
   ],
   "source": [
    "df_train.info()"
   ]
  },
  {
   "cell_type": "code",
   "execution_count": 4,
   "metadata": {
    "colab": {
     "base_uri": "https://localhost:8080/"
    },
    "id": "eh93yzgZqCmd",
    "outputId": "75aa86ab-e3fe-45af-d788-75688f497b3b"
   },
   "outputs": [
    {
     "data": {
      "text/plain": [
       "lang_id    0\n",
       "text       0\n",
       "dtype: int64"
      ]
     },
     "execution_count": 4,
     "metadata": {},
     "output_type": "execute_result"
    }
   ],
   "source": [
    "df_train.isnull().sum()"
   ]
  },
  {
   "cell_type": "code",
   "execution_count": 6,
   "metadata": {
    "colab": {
     "base_uri": "https://localhost:8080/"
    },
    "id": "w8hfz8tdqPJs",
    "outputId": "9f3e6e51-11b1-4a8f-8369-019fda0b47cc"
   },
   "outputs": [
    {
     "data": {
      "text/plain": [
       "11"
      ]
     },
     "execution_count": 6,
     "metadata": {},
     "output_type": "execute_result"
    }
   ],
   "source": [
    "df_train.lang_id.value_counts()\n",
    "len(df_train.lang_id.value_counts())"
   ]
  },
  {
   "cell_type": "code",
   "execution_count": 9,
   "metadata": {
    "colab": {
     "base_uri": "https://localhost:8080/"
    },
    "id": "31R847aCuiZs",
    "outputId": "8d4b840f-03f1-4f55-f226-b58356a0a79d"
   },
   "outputs": [
    {
     "data": {
      "text/plain": [
       "{'xho': 3000,\n",
       " 'eng': 3000,\n",
       " 'nso': 3000,\n",
       " 'ven': 3000,\n",
       " 'tsn': 3000,\n",
       " 'nbl': 3000,\n",
       " 'zul': 3000,\n",
       " 'ssw': 3000,\n",
       " 'tso': 3000,\n",
       " 'sot': 3000,\n",
       " 'afr': 3000}"
      ]
     },
     "execution_count": 9,
     "metadata": {},
     "output_type": "execute_result"
    }
   ],
   "source": [
    "#create a dictionary of unique languages\n",
    "lang_dict = dict(df_train.lang_id.value_counts())\n",
    "lang_dict"
   ]
  },
  {
   "cell_type": "code",
   "execution_count": 7,
   "metadata": {
    "colab": {
     "base_uri": "https://localhost:8080/",
     "height": 268
    },
    "id": "P36HXAXKvmDP",
    "outputId": "04fd9027-6274-4634-c4af-2d4aa8a63850",
    "scrolled": true
   },
   "outputs": [
    {
     "data": {
      "image/png": "[encoded data removed]",
      "text/plain": [
       "<Figure size 432x288 with 1 Axes>"
      ]
     },
     "metadata": {},
     "output_type": "display_data"
    }
   ],
   "source": [
    "# visualize distribution of languages\n",
    "df_train['lang_id'].hist(bins=11)\n",
    "plt.show()"
   ]
  },
  {
   "cell_type": "code",
   "execution_count": null,
   "metadata": {},
   "outputs": [],
   "source": [
    "def remove_punctuation(words):\n",
    "    \"\"\"Remove punctuation from list of tokenized words\"\"\"\n",
    "    new_words = []\n",
    "    for word in words:\n",
    "        new_word = re.sub(r'[^\\w\\s]', '', word)\n",
    "        if new_word != '':\n",
    "            new_words.append(new_word)\n",
    "    return new_words"
   ]
  },
  {
   "cell_type": "code",
   "execution_count": 11,
   "metadata": {
    "colab": {
     "base_uri": "https://localhost:8080/"
    },
    "id": "KkNKJrJFydhf",
    "outputId": "65790f2c-453c-4588-f9c5-12f591af5065"
   },
   "outputs": [
    {
     "data": {
      "text/plain": [
       "['xho', 'eng', 'nso', 'ven', 'tsn', 'nbl', 'zul', 'ssw', 'tso', 'sot', 'afr']"
      ]
     },
     "execution_count": 11,
     "metadata": {},
     "output_type": "execute_result"
    }
   ],
   "source": [
    "lang_list = list(lang_dict.keys())\n",
    "lang_list"
   ]
  },
  {
   "cell_type": "markdown",
   "metadata": {
    "id": "LOa5Rzj0yZJU"
   },
   "source": [
    "The resultiing coded list of the 11 unique languages is transcribed as:\n",
    "\n",
    "['Tshi**ven**da',  'Xi**tso**nga',  '**Afr**ikaans', '**Eng**lish',  'Se**ts**wa**n**a',  'isi**Zul**u',  '**N**othern Se**so**tho',  'isi**Xho**sa',  '**N**de**b**e**l**e',  'si**Sw**ati',  'Se**sot**ho']."
   ]
  },
  {
   "cell_type": "code",
   "execution_count": 30,
   "metadata": {
    "colab": {
     "base_uri": "https://localhost:8080/"
    },
    "id": "Yz3mrbPsAIho",
    "outputId": "81ad3d31-47be-4d8d-8611-31064837dad7"
   },
   "outputs": [
    {
     "name": "stdout",
     "output_type": "stream",
     "text": [
      "\n",
      " nakong ya gagwe mošomong o ile a hwetšwa molato mme a ahlolelwa kgolego ntle le tefišo goba ka kgopolo ya lekgotla la netefatšo ya boleng bja thuto le tlhahlo o palelwa ke go diragatša mešomo ya gagwe ka boikarabelo\n",
      "\n",
      " nokuba sele ulishishini elincinci kangakanani na kungumbono omhle ukuhlola iintshukumo zakho zonyaka kwicandelo loshishino okulo ze ujonge nokuba linempumelelo kangakanani na ishishini lakho unyaka nonyaka leliphi icebo elisebenzileyo nokuba kufuneka kutshintshe ntoni na\n",
      "\n",
      " tshenzhemo kha ḽifhasi ḽoṱhe yo sumbedza uri u valiwa ha zwikolo na zwiimiswa zwa pfunzo ya nṱha mavhengele a u rengisa na fhethu ha mushumo a zwo ngo thusa kha u imisa u phaḓalala ha vhulwadze vhudzuloni hazwo zwo ita uri hu vhe na u thithisea zwihulwane kha zwa matshilisano\n",
      "\n",
      " amathuba empangelo alinganayo - amathuba alinganayo nokuphathwa ngendlela eyamkelekileyo kwiindawo zentsebenzo ukuhleleleka kwangaphambili kuyasonjululwa ze ukungalingani kona kususwe ukuze kuphele nya\n",
      "\n",
      " provinces have budgeted r billion for social services which includes spending on education health and social development spending on social services is recorded at r billion or per cent of the total provincial social services budgets for the first quarter of\n",
      "\n",
      " khadi ya layisense ya vuchayeri ya wena yi tirha malembe ya ntlhanu ku sukela hi siku leri yi humesiwaku hi rona na swona yi fanele ku pfuxetiwa endzhaku ka nkarhi lowu hambi leswi siku ra ku hela ka ku tirha ka rona ri nga tsariwa eka layisense ya wena u ta rhumeriwa nothisi ya ku pfuxeta\n",
      "\n",
      " hhopha lefelo leo motsokotso rinsate o se neng o kgotlela dittamelo tsa metsi melapo dijalo le dimela tse dingwe le foo go se neng go nna megojwana teng le go tlholela batlu diphologolo le tikologo matlhotlhapelo o ka o kgatsa mo molelwaneng wa tshimo kgotsa fa thoko ga tsela ya polase\n",
      "\n",
      " die nasionale outomatiese argivale inligtingopsporingstelsel is n argivale inligtingopsporingstelsel wat argiefmateriaal oor n gegewe onderwerp kan identifiseer hetsy dit van openbare of nie-openbare aard is en ongeag die soort materiaal en die ligging daarvan\n",
      "\n",
      " kezefundo sibone ukwehla kwezinga labafundisi izinga labafundi pheze indlela iyafana yokutloliswa kwabafundi eenkolweni zamazinga aphasi nokwenziwa ngcono kwezinga labantwana abaphumelela esifundweni seembalo lapha bengidzubhula iimbonelo ezimbalwa kwaphela\n",
      "\n",
      " fa mmidi o ka rorelwa kwa sefaleng sengwe fela go na le randfontein tekanyo e tshwanetswe go dirwa mo tlhotlhweng go emela ditshenyegelo tsa thorelo kwa randfontein go tswa sefaleng seo gammogo le ditshenyegelo tse dingwe\n"
     ]
    }
   ],
   "source": [
    "#Random check for noise.\n",
    "np.random.seed(50)\n",
    "for text in range(10):\n",
    "  num = np.random.randint(0, len(df_train))\n",
    "  print('\\n',df_train['text'][num])"
   ]
  },
  {
   "cell_type": "markdown",
   "metadata": {
    "id": "SLCPyHsHvOLc"
   },
   "source": [
    "#### Observations on Train Data\n",
    "* Train data looks relatively clean as there are no missing values except for punctuation noise from hyphenated words.\n",
    "* No language had significantly few entries compared to another as the data visualization implies.\n",
    "* The train data suggests that `Tshivenda` is most spoken and `Sesotho` is least, which is contrary to recent research by [Mary Alexander](https://southafrica-info.com/arts-culture/11-languages-south-africa/), stating that `IsiZulu` is most and `isiNdebele` is least spoken.\n",
    "* I conclude here that `Tshivenda` and `Sesotho` are just the most recorded and least recorded respectively."
   ]
  },
  {
   "cell_type": "code",
   "execution_count": 17,
   "metadata": {
    "colab": {
     "base_uri": "https://localhost:8080/",
     "height": 206
    },
    "id": "3ENLD8ertBPe",
    "outputId": "2e19ac25-0735-4053-adfe-5a9c24a12496"
   },
   "outputs": [
    {
     "data": {
      "text/html": [
       "<div>\n",
       "<style scoped>\n",
       "    .dataframe tbody tr th:only-of-type {\n",
       "        vertical-align: middle;\n",
       "    }\n",
       "\n",
       "    .dataframe tbody tr th {\n",
       "        vertical-align: top;\n",
       "    }\n",
       "\n",
       "    .dataframe thead th {\n",
       "        text-align: right;\n",
       "    }\n",
       "</style>\n",
       "<table border=\"1\" class=\"dataframe\">\n",
       "  <thead>\n",
       "    <tr style=\"text-align: right;\">\n",
       "      <th></th>\n",
       "      <th>index</th>\n",
       "      <th>text</th>\n",
       "    </tr>\n",
       "  </thead>\n",
       "  <tbody>\n",
       "    <tr>\n",
       "      <th>0</th>\n",
       "      <td>1</td>\n",
       "      <td>Mmasepala, fa maemo a a kgethegileng a letlele...</td>\n",
       "    </tr>\n",
       "    <tr>\n",
       "      <th>1</th>\n",
       "      <td>2</td>\n",
       "      <td>Uzakwaziswa ngokufaneleko nakungafuneka eminye...</td>\n",
       "    </tr>\n",
       "    <tr>\n",
       "      <th>2</th>\n",
       "      <td>3</td>\n",
       "      <td>Tshivhumbeo tshi fana na ngano dza vhathu.</td>\n",
       "    </tr>\n",
       "    <tr>\n",
       "      <th>3</th>\n",
       "      <td>4</td>\n",
       "      <td>Kube inja nelikati betingevakala kutsi titsini...</td>\n",
       "    </tr>\n",
       "    <tr>\n",
       "      <th>4</th>\n",
       "      <td>5</td>\n",
       "      <td>Winste op buitelandse valuta.</td>\n",
       "    </tr>\n",
       "  </tbody>\n",
       "</table>\n",
       "</div>"
      ],
      "text/plain": [
       "   index                                               text\n",
       "0      1  Mmasepala, fa maemo a a kgethegileng a letlele...\n",
       "1      2  Uzakwaziswa ngokufaneleko nakungafuneka eminye...\n",
       "2      3         Tshivhumbeo tshi fana na ngano dza vhathu.\n",
       "3      4  Kube inja nelikati betingevakala kutsi titsini...\n",
       "4      5                      Winste op buitelandse valuta."
      ]
     },
     "execution_count": 17,
     "metadata": {},
     "output_type": "execute_result"
    }
   ],
   "source": [
    "#TEST DATA\n",
    "\n",
    "df_test = pd.read_csv('test_set.csv')\n",
    "df_test.head()"
   ]
  },
  {
   "cell_type": "code",
   "execution_count": 18,
   "metadata": {
    "colab": {
     "base_uri": "https://localhost:8080/"
    },
    "id": "Y4jGncjWtwS6",
    "outputId": "f8fb9dfa-4715-4b41-94d8-3268f35016be"
   },
   "outputs": [
    {
     "name": "stdout",
     "output_type": "stream",
     "text": [
      "<class 'pandas.core.frame.DataFrame'>\n",
      "RangeIndex: 5682 entries, 0 to 5681\n",
      "Data columns (total 2 columns):\n",
      " #   Column  Non-Null Count  Dtype \n",
      "---  ------  --------------  ----- \n",
      " 0   index   5682 non-null   int64 \n",
      " 1   text    5682 non-null   object\n",
      "dtypes: int64(1), object(1)\n",
      "memory usage: 88.9+ KB\n"
     ]
    }
   ],
   "source": [
    "df_test.info()"
   ]
  },
  {
   "cell_type": "code",
   "execution_count": 22,
   "metadata": {
    "colab": {
     "base_uri": "https://localhost:8080/"
    },
    "id": "XkRP9mjbt6zp",
    "outputId": "ad9ad9a7-713d-4f77-ff6b-b23a73657828",
    "scrolled": true
   },
   "outputs": [
    {
     "data": {
      "text/plain": [
       "index    0\n",
       "text     0\n",
       "dtype: int64"
      ]
     },
     "execution_count": 22,
     "metadata": {},
     "output_type": "execute_result"
    }
   ],
   "source": [
    "df_test.isnull().sum()"
   ]
  },
  {
   "cell_type": "code",
   "execution_count": 33,
   "metadata": {
    "colab": {
     "base_uri": "https://localhost:8080/"
    },
    "id": "bUsovjMFD_gl",
    "outputId": "bae8518a-6d11-4c34-dc0c-4f89c9f963fd"
   },
   "outputs": [
    {
     "name": "stdout",
     "output_type": "stream",
     "text": [
      "\n",
      " <fn>GOV-ZA.106340En.2012-02-10.en.txt</fn>\n",
      "\n",
      " Na ke hakae moo o neng o lokela ho lekola dibenefiti tsa sekimi sa hao sa bongaka ka potlako Re a tseba hore hangata hona ho potlakile mme re ile ra sebedisa dikelello tsa rona ho fumana tharollo?\n",
      "\n",
      " E Ngizikhethele lokho engikukhethile futhi ngizanelisile ngesimo senzuzo ngaphansi kwalokhu engikukhethile.\n",
      "\n",
      " Ukubeletha ngokuhlinzwa Okuphuthumayo kwenziwa uma izinkinga zenzeka ngesikhathi sokubeletha. Ngesinye isikhathi, isidingo sokubeletha ngokuhlinzwa asicaci kuze kuqalwe ukubelethisa kanti abanye omama abahlose ukube-letha ngendlela ejwayelekile, kungadingeka ukuthi babelethe ngokuhlinzwa.\n",
      "\n",
      " Khutlotharo e e fa thoko ga seikokotlelo e ntsho.\n",
      "\n",
      " Ekotoerisme is natuur-gebaseerde toerisme wat ekologies volhoubaar is.\n",
      "\n",
      " Iskimu sokucandwa kwemida luxwebhu lomthetho elimisela amalungelo nezinyanzeliso ezingophuhliso somhlaba, kwaye sisetyenziswa kunye neminye imithetho enjengemithetho engokusingqongileyo, ukuze kulawulwe ukusetyenziswa nokuphuhliswa komhlaba kwisixeko. Ngokomthetho, iskimu sokucandwa kwemida kumele ukuba simisele amalungelo osetyenziso kwaye sibonelele ngolawulo kulo malungelo osetyenziso kunye nokusetyenziswa komhlaba. Ngoku nje kukho izikimu zocando lwemida ezingama-27 ezahlukeneyo ezisetyenziswa eKapa. Uninzi lwazo luneemimandla yosetyenziso lomhlaba, iinkcazelo kunye namagatya ahlukeneyo kwaye uninzi lwawo aphelelwa ngenxa yokuba awasahambelani kunye neemeko ezikhoyo ngoku. Ezinye izikimu zomiselo losetyenziso lomhlaba zazimiselwe phantsi komthetho wocalucalulo, uMthetho woPhuhliso lwaBantu abaMnyama, kwaye zifuna ukutshintshwa ngokukhawuleza. Le nkqubo imbaxa ayisebenziseki kwaye inzima ukusetyenziswayo liBhunga likunye noluntu ngokubanzi. Isixeko esibumbeneyo njengeKapa sidinga isikimu socando lwemida esihlangeneyo esingabonakalisi ucalucalulo lwexesha elidlulileyo kwaye sihambelane nemiceli-mngeni yangoku. Ukujongana ngqo nale ngxaki, iSixeko iphuhlise iskimu socando lwemida esinye seSixeko saseKapa sisonke. Le nkqubo yaqala emva kokuba kwamkelwe uluhlu kwemithetho-siseko esisikhokelo. Okunye okwanakanwayo kule nkqubo kukuba iSixeko sineyantlukwano kwaye ke esi sikimu sitsha sosetyenziso lomhlaba kufuneka sikwazi ukuba nokulungiselela ezo yantlukwano, mayela noku ke kwaveliswa izibonelelo ezihamba ngokwemeko kwakunye nezosetyenziso lomhlaba oluxutyiweyo, amacebo osetyenziso lomhlaba abonisa iziphumo kwakunye nemimandla eyalekeneyo. Iskimu socando lwemida sineendidi ezininzi. Kukho uxwebhu lweSkimu soCando lweMida eliqulathe izibonelelo, amalungelo osetyenziso kunye nemithetho yophuhliso ommandla ngamnye. Kukwakho iimephu zocando lwemida zesixeko sisonke ezibonakalisa ukuba yeyiphi na imihlaba nezakhiwo emiselwe ukuba ibe kowuphi ummandla. Uluntu lungahlola ezi mephu zocando lwemida ukuze bamisele ucando lwemida yemihlaba nezakhiwo zalo, kwaye lungahlola imigaqo yesikimu socando lwemida ukuze luqinisekise ukuba amagatya ocando lwemida amatsha ayasebenza na kwimihlaba nezakhiwo zalo. Ezi nkcukacha zigcinwe kwii-Ofisi zikaMasipala kwaye zingenziwa zibekho kumntu onemihlaba nezakhiwo xa kuthe kwafakwa isicelo.\n",
      "\n",
      " Ukuba indlu yowiso-mthetho yephondo, ngevoti exhaswa sisininzi samalungu ayo, iphumeza isindululo sokuphela kokuthenjwa kweBhunga lePhondo elinoLawulo oluPhezulu, kungabandakanywa iNkulumbuso, iNkulumbuso kufuneka yakhe iBhunga ngokutsha.\n",
      "\n",
      " Kalafi ya go ikoka ka bowena:dihlare tšeo o ka kgonago go di hwetša go ba di filego maloko a rena, go latelelwa Melao ya setlamo. Ngaka ya gago ya kgokagano ya GEMS e ba semetseng Mogwera wa GEMS.\n",
      "\n",
      " Boimana ba masea a mmalwa j.k.\n"
     ]
    }
   ],
   "source": [
    "#Random check for noise.\n",
    "np.random.seed(50)\n",
    "for text in range(10):\n",
    "  num = np.random.randint(0, len(df_test))\n",
    "  print('\\n',df_test['text'][num])"
   ]
  },
  {
   "cell_type": "markdown",
   "metadata": {
    "id": "Ulre0FsO94jk"
   },
   "source": [
    "#### Observations on Test Data\n",
    "* Test data not as clean as train data as there are more punctuations in its text.\n",
    "* There is no language identifier column.\n",
    "* There are two index columns.\n",
    "* Test data is larger than train data."
   ]
  },
  {
   "cell_type": "markdown",
   "metadata": {
    "id": "MF8g6rxw95Gi"
   },
   "source": [
    "#### Conclusions based on EDA\n",
    "* We can proceed to preprocessing with the test and train datasets.\n",
    "* Punctuations should be removed from both data sets and one of the index columns for the test data should be dropped.\n",
    "* Classification model should be trained with all of the train data set."
   ]
  },
  {
   "cell_type": "markdown",
   "metadata": {
    "id": "_RITd2xts5xn"
   },
   "source": [
    "### Preprocessing"
   ]
  },
  {
   "cell_type": "code",
   "execution_count": 39,
   "metadata": {
    "id": "lPip1t-zqiVk"
   },
   "outputs": [],
   "source": [
    "#Remove punctuations\n",
    "\n",
    "def remove_punctuation(words):\n",
    "    \"\"\"Remove punctuation from list of tokenized words\"\"\"\n",
    "    new_words = []\n",
    "    for word in df_test.text:\n",
    "        new_word = re.sub(r'[^\\w\\s]', '', word)\n",
    "        if new_word != '':\n",
    "            new_words.append(new_word)\n",
    "    return new_words"
   ]
  },
  {
   "cell_type": "code",
   "execution_count": 45,
   "metadata": {
    "colab": {
     "base_uri": "https://localhost:8080/"
    },
    "id": "Umcfu2-1Efi1",
    "outputId": "26405d84-0fcb-4114-e177-3876ef6786c0"
   },
   "outputs": [
    {
     "name": "stdout",
     "output_type": "stream",
     "text": [
      "!\"#$%&'()*+,-./:;<=>?@[\\]^_`{|}~\n"
     ]
    }
   ],
   "source": [
    "print(string.punctuation)"
   ]
  },
  {
   "cell_type": "code",
   "execution_count": 41,
   "metadata": {},
   "outputs": [],
   "source": [
    "from sklearn import preprocessing\n",
    "scaler = preprocessing.MinMaxScaler()"
   ]
  },
  {
   "cell_type": "code",
   "execution_count": 53,
   "metadata": {},
   "outputs": [],
   "source": [
    "y_train = df_train.lang_id\n",
    "y_test = df_test.index"
   ]
  },
  {
   "cell_type": "code",
   "execution_count": 54,
   "metadata": {},
   "outputs": [],
   "source": [
    "x_train = df_train.text\n",
    "x_test = df_test.text"
   ]
  },
  {
   "cell_type": "code",
   "execution_count": 61,
   "metadata": {},
   "outputs": [],
   "source": [
    "from sklearn.feature_extraction.text import CountVectorizer\n",
    "\n",
    "vect = CountVectorizer(stop_words='english', min_df= .01)\n",
    "x_train = vect.fit_transform(df_train['text'])"
   ]
  },
  {
   "cell_type": "code",
   "execution_count": 62,
   "metadata": {},
   "outputs": [],
   "source": [
    "names = ['Logistic Regression', 'Nearest Neighbors',\n",
    "         'Linear SVM', 'RBF SVM',\n",
    "         'Decision Tree', 'Random Forest',  'AdaBoost']"
   ]
  },
  {
   "cell_type": "code",
   "execution_count": 57,
   "metadata": {},
   "outputs": [],
   "source": [
    "classifiers = [\n",
    "    LogisticRegression(),\n",
    "    KNeighborsClassifier(3),\n",
    "    SVC(kernel=\"linear\", C=0.025),\n",
    "    SVC(gamma=2, C=1),\n",
    "    DecisionTreeClassifier(max_depth=5),\n",
    "    RandomForestClassifier(max_depth=5, n_estimators=10, max_features=1),\n",
    "    AdaBoostClassifier()\n",
    "]"
   ]
  },
  {
   "cell_type": "code",
   "execution_count": 58,
   "metadata": {},
   "outputs": [
    {
     "name": "stdout",
     "output_type": "stream",
     "text": [
      "Fitting Logistic Regression model...\n",
      "... predicting\n"
     ]
    },
    {
     "ename": "ValueError",
     "evalue": "could not convert string to float: 'Mmasepala, fa maemo a a kgethegileng a letlelela kgato eo.'",
     "output_type": "error",
     "traceback": [
      "\u001b[1;31m---------------------------------------------------------------------------\u001b[0m",
      "\u001b[1;31mValueError\u001b[0m                                Traceback (most recent call last)",
      "Input \u001b[1;32mIn [58]\u001b[0m, in \u001b[0;36m<cell line: 8>\u001b[1;34m()\u001b[0m\n\u001b[0;32m     12\u001b[0m \u001b[38;5;28mprint\u001b[39m (\u001b[38;5;124m'\u001b[39m\u001b[38;5;124m... predicting\u001b[39m\u001b[38;5;124m'\u001b[39m)\n\u001b[0;32m     13\u001b[0m y_pred \u001b[38;5;241m=\u001b[39m clf\u001b[38;5;241m.\u001b[39mpredict(x_train)\n\u001b[1;32m---> 14\u001b[0m y_pred_test \u001b[38;5;241m=\u001b[39m \u001b[43mclf\u001b[49m\u001b[38;5;241;43m.\u001b[39;49m\u001b[43mpredict\u001b[49m\u001b[43m(\u001b[49m\u001b[43mx_test\u001b[49m\u001b[43m)\u001b[49m\n\u001b[0;32m     16\u001b[0m \u001b[38;5;28mprint\u001b[39m (\u001b[38;5;124m'\u001b[39m\u001b[38;5;124m... scoring\u001b[39m\u001b[38;5;124m'\u001b[39m)\n\u001b[0;32m     17\u001b[0m accuracy  \u001b[38;5;241m=\u001b[39m metrics\u001b[38;5;241m.\u001b[39maccuracy_score(y_train, y_pred)\n",
      "File \u001b[1;32m~\\Anaconda3\\lib\\site-packages\\sklearn\\linear_model\\_base.py:425\u001b[0m, in \u001b[0;36mLinearClassifierMixin.predict\u001b[1;34m(self, X)\u001b[0m\n\u001b[0;32m    411\u001b[0m \u001b[38;5;28;01mdef\u001b[39;00m \u001b[38;5;21mpredict\u001b[39m(\u001b[38;5;28mself\u001b[39m, X):\n\u001b[0;32m    412\u001b[0m     \u001b[38;5;124;03m\"\"\"\u001b[39;00m\n\u001b[0;32m    413\u001b[0m \u001b[38;5;124;03m    Predict class labels for samples in X.\u001b[39;00m\n\u001b[0;32m    414\u001b[0m \n\u001b[1;32m   (...)\u001b[0m\n\u001b[0;32m    423\u001b[0m \u001b[38;5;124;03m        Vector containing the class labels for each sample.\u001b[39;00m\n\u001b[0;32m    424\u001b[0m \u001b[38;5;124;03m    \"\"\"\u001b[39;00m\n\u001b[1;32m--> 425\u001b[0m     scores \u001b[38;5;241m=\u001b[39m \u001b[38;5;28;43mself\u001b[39;49m\u001b[38;5;241;43m.\u001b[39;49m\u001b[43mdecision_function\u001b[49m\u001b[43m(\u001b[49m\u001b[43mX\u001b[49m\u001b[43m)\u001b[49m\n\u001b[0;32m    426\u001b[0m     \u001b[38;5;28;01mif\u001b[39;00m \u001b[38;5;28mlen\u001b[39m(scores\u001b[38;5;241m.\u001b[39mshape) \u001b[38;5;241m==\u001b[39m \u001b[38;5;241m1\u001b[39m:\n\u001b[0;32m    427\u001b[0m         indices \u001b[38;5;241m=\u001b[39m (scores \u001b[38;5;241m>\u001b[39m \u001b[38;5;241m0\u001b[39m)\u001b[38;5;241m.\u001b[39mastype(\u001b[38;5;28mint\u001b[39m)\n",
      "File \u001b[1;32m~\\Anaconda3\\lib\\site-packages\\sklearn\\linear_model\\_base.py:407\u001b[0m, in \u001b[0;36mLinearClassifierMixin.decision_function\u001b[1;34m(self, X)\u001b[0m\n\u001b[0;32m    387\u001b[0m \u001b[38;5;124;03m\"\"\"\u001b[39;00m\n\u001b[0;32m    388\u001b[0m \u001b[38;5;124;03mPredict confidence scores for samples.\u001b[39;00m\n\u001b[0;32m    389\u001b[0m \n\u001b[1;32m   (...)\u001b[0m\n\u001b[0;32m    403\u001b[0m \u001b[38;5;124;03m    this class would be predicted.\u001b[39;00m\n\u001b[0;32m    404\u001b[0m \u001b[38;5;124;03m\"\"\"\u001b[39;00m\n\u001b[0;32m    405\u001b[0m check_is_fitted(\u001b[38;5;28mself\u001b[39m)\n\u001b[1;32m--> 407\u001b[0m X \u001b[38;5;241m=\u001b[39m \u001b[38;5;28;43mself\u001b[39;49m\u001b[38;5;241;43m.\u001b[39;49m\u001b[43m_validate_data\u001b[49m\u001b[43m(\u001b[49m\u001b[43mX\u001b[49m\u001b[43m,\u001b[49m\u001b[43m \u001b[49m\u001b[43maccept_sparse\u001b[49m\u001b[38;5;241;43m=\u001b[39;49m\u001b[38;5;124;43m\"\u001b[39;49m\u001b[38;5;124;43mcsr\u001b[39;49m\u001b[38;5;124;43m\"\u001b[39;49m\u001b[43m,\u001b[49m\u001b[43m \u001b[49m\u001b[43mreset\u001b[49m\u001b[38;5;241;43m=\u001b[39;49m\u001b[38;5;28;43;01mFalse\u001b[39;49;00m\u001b[43m)\u001b[49m\n\u001b[0;32m    408\u001b[0m scores \u001b[38;5;241m=\u001b[39m safe_sparse_dot(X, \u001b[38;5;28mself\u001b[39m\u001b[38;5;241m.\u001b[39mcoef_\u001b[38;5;241m.\u001b[39mT, dense_output\u001b[38;5;241m=\u001b[39m\u001b[38;5;28;01mTrue\u001b[39;00m) \u001b[38;5;241m+\u001b[39m \u001b[38;5;28mself\u001b[39m\u001b[38;5;241m.\u001b[39mintercept_\n\u001b[0;32m    409\u001b[0m \u001b[38;5;28;01mreturn\u001b[39;00m scores\u001b[38;5;241m.\u001b[39mravel() \u001b[38;5;28;01mif\u001b[39;00m scores\u001b[38;5;241m.\u001b[39mshape[\u001b[38;5;241m1\u001b[39m] \u001b[38;5;241m==\u001b[39m \u001b[38;5;241m1\u001b[39m \u001b[38;5;28;01melse\u001b[39;00m scores\n",
      "File \u001b[1;32m~\\Anaconda3\\lib\\site-packages\\sklearn\\base.py:566\u001b[0m, in \u001b[0;36mBaseEstimator._validate_data\u001b[1;34m(self, X, y, reset, validate_separately, **check_params)\u001b[0m\n\u001b[0;32m    564\u001b[0m     \u001b[38;5;28;01mraise\u001b[39;00m \u001b[38;5;167;01mValueError\u001b[39;00m(\u001b[38;5;124m\"\u001b[39m\u001b[38;5;124mValidation should be done on X, y or both.\u001b[39m\u001b[38;5;124m\"\u001b[39m)\n\u001b[0;32m    565\u001b[0m \u001b[38;5;28;01melif\u001b[39;00m \u001b[38;5;129;01mnot\u001b[39;00m no_val_X \u001b[38;5;129;01mand\u001b[39;00m no_val_y:\n\u001b[1;32m--> 566\u001b[0m     X \u001b[38;5;241m=\u001b[39m check_array(X, \u001b[38;5;241m*\u001b[39m\u001b[38;5;241m*\u001b[39mcheck_params)\n\u001b[0;32m    567\u001b[0m     out \u001b[38;5;241m=\u001b[39m X\n\u001b[0;32m    568\u001b[0m \u001b[38;5;28;01melif\u001b[39;00m no_val_X \u001b[38;5;129;01mand\u001b[39;00m \u001b[38;5;129;01mnot\u001b[39;00m no_val_y:\n",
      "File \u001b[1;32m~\\Anaconda3\\lib\\site-packages\\sklearn\\utils\\validation.py:746\u001b[0m, in \u001b[0;36mcheck_array\u001b[1;34m(array, accept_sparse, accept_large_sparse, dtype, order, copy, force_all_finite, ensure_2d, allow_nd, ensure_min_samples, ensure_min_features, estimator)\u001b[0m\n\u001b[0;32m    744\u001b[0m         array \u001b[38;5;241m=\u001b[39m array\u001b[38;5;241m.\u001b[39mastype(dtype, casting\u001b[38;5;241m=\u001b[39m\u001b[38;5;124m\"\u001b[39m\u001b[38;5;124munsafe\u001b[39m\u001b[38;5;124m\"\u001b[39m, copy\u001b[38;5;241m=\u001b[39m\u001b[38;5;28;01mFalse\u001b[39;00m)\n\u001b[0;32m    745\u001b[0m     \u001b[38;5;28;01melse\u001b[39;00m:\n\u001b[1;32m--> 746\u001b[0m         array \u001b[38;5;241m=\u001b[39m \u001b[43mnp\u001b[49m\u001b[38;5;241;43m.\u001b[39;49m\u001b[43masarray\u001b[49m\u001b[43m(\u001b[49m\u001b[43marray\u001b[49m\u001b[43m,\u001b[49m\u001b[43m \u001b[49m\u001b[43morder\u001b[49m\u001b[38;5;241;43m=\u001b[39;49m\u001b[43morder\u001b[49m\u001b[43m,\u001b[49m\u001b[43m \u001b[49m\u001b[43mdtype\u001b[49m\u001b[38;5;241;43m=\u001b[39;49m\u001b[43mdtype\u001b[49m\u001b[43m)\u001b[49m\n\u001b[0;32m    747\u001b[0m \u001b[38;5;28;01mexcept\u001b[39;00m ComplexWarning \u001b[38;5;28;01mas\u001b[39;00m complex_warning:\n\u001b[0;32m    748\u001b[0m     \u001b[38;5;28;01mraise\u001b[39;00m \u001b[38;5;167;01mValueError\u001b[39;00m(\n\u001b[0;32m    749\u001b[0m         \u001b[38;5;124m\"\u001b[39m\u001b[38;5;124mComplex data not supported\u001b[39m\u001b[38;5;130;01m\\n\u001b[39;00m\u001b[38;5;132;01m{}\u001b[39;00m\u001b[38;5;130;01m\\n\u001b[39;00m\u001b[38;5;124m\"\u001b[39m\u001b[38;5;241m.\u001b[39mformat(array)\n\u001b[0;32m    750\u001b[0m     ) \u001b[38;5;28;01mfrom\u001b[39;00m \u001b[38;5;21;01mcomplex_warning\u001b[39;00m\n",
      "File \u001b[1;32m~\\Anaconda3\\lib\\site-packages\\pandas\\core\\series.py:872\u001b[0m, in \u001b[0;36mSeries.__array__\u001b[1;34m(self, dtype)\u001b[0m\n\u001b[0;32m    825\u001b[0m \u001b[38;5;28;01mdef\u001b[39;00m \u001b[38;5;21m__array__\u001b[39m(\u001b[38;5;28mself\u001b[39m, dtype: npt\u001b[38;5;241m.\u001b[39mDTypeLike \u001b[38;5;241m|\u001b[39m \u001b[38;5;28;01mNone\u001b[39;00m \u001b[38;5;241m=\u001b[39m \u001b[38;5;28;01mNone\u001b[39;00m) \u001b[38;5;241m-\u001b[39m\u001b[38;5;241m>\u001b[39m np\u001b[38;5;241m.\u001b[39mndarray:\n\u001b[0;32m    826\u001b[0m     \u001b[38;5;124;03m\"\"\"\u001b[39;00m\n\u001b[0;32m    827\u001b[0m \u001b[38;5;124;03m    Return the values as a NumPy array.\u001b[39;00m\n\u001b[0;32m    828\u001b[0m \n\u001b[1;32m   (...)\u001b[0m\n\u001b[0;32m    870\u001b[0m \u001b[38;5;124;03m          dtype='datetime64[ns]')\u001b[39;00m\n\u001b[0;32m    871\u001b[0m \u001b[38;5;124;03m    \"\"\"\u001b[39;00m\n\u001b[1;32m--> 872\u001b[0m     \u001b[38;5;28;01mreturn\u001b[39;00m \u001b[43mnp\u001b[49m\u001b[38;5;241;43m.\u001b[39;49m\u001b[43masarray\u001b[49m\u001b[43m(\u001b[49m\u001b[38;5;28;43mself\u001b[39;49m\u001b[38;5;241;43m.\u001b[39;49m\u001b[43m_values\u001b[49m\u001b[43m,\u001b[49m\u001b[43m \u001b[49m\u001b[43mdtype\u001b[49m\u001b[43m)\u001b[49m\n",
      "\u001b[1;31mValueError\u001b[0m: could not convert string to float: 'Mmasepala, fa maemo a a kgethegileng a letlelela kgato eo.'"
     ]
    }
   ],
   "source": [
    "results = []\n",
    "\n",
    "models = {}\n",
    "confusion = {}\n",
    "class_report = {}\n",
    "\n",
    "\n",
    "for name, clf in zip(names, classifiers):\n",
    "    print ('Fitting {:s} model...'.format(name))\n",
    "    run_time = %timeit -q -o clf.fit(x_train, y_train)\n",
    "\n",
    "    print ('... predicting')\n",
    "    y_pred = clf.predict(x_train)\n",
    "    y_pred_test = clf.predict(x_test)\n",
    "\n",
    "    print ('... scoring')\n",
    "    accuracy  = metrics.accuracy_score(y_train, y_pred)\n",
    "    precision = metrics.precision_score(y_train, y_pred)\n",
    "    recall    = metrics.recall_score(y_train, y_pred)\n",
    "\n",
    "    f1        = metrics.f1_score(y_train, y_pred)\n",
    "    f1_test   = metrics.f1_score(y_test, y_pred_test)\n",
    "\n",
    "    # Save the results to dictionaries\n",
    "    models[name] = clf\n",
    "    confusion[name] = metrics.confusion_matrix(y_train, y_pred)\n",
    "    class_report[name] = metrics.classification_report(y_train, y_pred)\n",
    "\n",
    "    results.append([name, accuracy, precision, recall, f1, f1_test, run_time.best])\n",
    "\n",
    "\n",
    "results = pd.DataFrame(results, columns=['Classifier', 'Accuracy', 'Precision', 'Recall', 'F1 Train', 'F1 Test', 'Train Time'])\n",
    "results.set_index('Classifier', inplace= True)\n",
    "\n",
    "print ('... All done!')"
   ]
  },
  {
   "cell_type": "code",
   "execution_count": 59,
   "metadata": {
    "scrolled": true
   },
   "outputs": [
    {
     "ename": "AttributeError",
     "evalue": "'list' object has no attribute 'sort_values'",
     "output_type": "error",
     "traceback": [
      "\u001b[1;31m---------------------------------------------------------------------------\u001b[0m",
      "\u001b[1;31mAttributeError\u001b[0m                            Traceback (most recent call last)",
      "Input \u001b[1;32mIn [59]\u001b[0m, in \u001b[0;36m<cell line: 1>\u001b[1;34m()\u001b[0m\n\u001b[1;32m----> 1\u001b[0m \u001b[43mresults\u001b[49m\u001b[38;5;241;43m.\u001b[39;49m\u001b[43msort_values\u001b[49m(\u001b[38;5;124m'\u001b[39m\u001b[38;5;124mF1 Train\u001b[39m\u001b[38;5;124m'\u001b[39m, ascending\u001b[38;5;241m=\u001b[39m\u001b[38;5;28;01mFalse\u001b[39;00m)\n",
      "\u001b[1;31mAttributeError\u001b[0m: 'list' object has no attribute 'sort_values'"
     ]
    }
   ],
   "source": [
    "results.sort_values('F1 Train', ascending=False)"
   ]
  },
  {
   "cell_type": "code",
   "execution_count": null,
   "metadata": {},
   "outputs": [],
   "source": []
  },
  {
   "cell_type": "code",
   "execution_count": null,
   "metadata": {},
   "outputs": [],
   "source": []
  },
  {
   "cell_type": "code",
   "execution_count": null,
   "metadata": {},
   "outputs": [],
   "source": []
  },
  {
   "cell_type": "code",
   "execution_count": null,
   "metadata": {},
   "outputs": [],
   "source": []
  },
  {
   "cell_type": "code",
   "execution_count": null,
   "metadata": {},
   "outputs": [],
   "source": []
  },
  {
   "cell_type": "code",
   "execution_count": null,
   "metadata": {},
   "outputs": [],
   "source": []
  },
  {
   "cell_type": "code",
   "execution_count": null,
   "metadata": {},
   "outputs": [],
   "source": []
  },
  {
   "cell_type": "code",
   "execution_count": null,
   "metadata": {},
   "outputs": [],
   "source": []
  },
  {
   "cell_type": "code",
   "execution_count": null,
   "metadata": {},
   "outputs": [],
   "source": []
  },
  {
   "cell_type": "code",
   "execution_count": null,
   "metadata": {},
   "outputs": [],
   "source": []
  }
 ],
 "metadata": {
  "colab": {
   "name": "Hasan A-RAJI.ipynb",
   "provenance": [],
   "toc_visible": true
  },
  "kernelspec": {
   "display_name": "Python 3 (ipykernel)",
   "language": "python",
   "name": "python3"
  },
  "language_info": {
   "codemirror_mode": {
    "name": "ipython",
    "version": 3
   },
   "file_extension": ".py",
   "mimetype": "text/x-python",
   "name": "python",
   "nbconvert_exporter": "python",
   "pygments_lexer": "ipython3",
   "version": "3.9.12"
  }
 },
 "nbformat": 4,
 "nbformat_minor": 1
}
